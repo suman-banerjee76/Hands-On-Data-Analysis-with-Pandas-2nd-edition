{
  "nbformat": 4,
  "nbformat_minor": 0,
  "metadata": {
    "colab": {
      "name": "CDS-B4-20220403.ipynb",
      "private_outputs": true,
      "provenance": [],
      "collapsed_sections": [],
      "include_colab_link": true
    },
    "kernelspec": {
      "name": "python3",
      "display_name": "Python 3"
    },
    "language_info": {
      "name": "python"
    }
  },
  "cells": [
    {
      "cell_type": "markdown",
      "metadata": {
        "id": "view-in-github",
        "colab_type": "text"
      },
      "source": [
        "<a href=\"https://colab.research.google.com/github/suman-banerjee76/Hands-On-Data-Analysis-with-Pandas-2nd-edition/blob/master/CDS_B4_20220403.ipynb\" target=\"_parent\"><img src=\"https://colab.research.google.com/assets/colab-badge.svg\" alt=\"Open In Colab\"/></a>"
      ]
    },
    {
      "cell_type": "markdown",
      "source": [
        "# Problem 1\n",
        "## Euler 1\n",
        "If we list all the natural numbers below 10 that are multiples of 3 or 5, we get 3, 5, 6 and 9. The sum of these multiples is 23.\n",
        "\n",
        "Find the sum of all the multiples of 3 or 5 below 1000.\n",
        "\n"
      ],
      "metadata": {
        "id": "Ewuj779eZScV"
      }
    },
    {
      "cell_type": "code",
      "source": [
        "LIMIT = 1000"
      ],
      "metadata": {
        "id": "mpQrnKpMd_dQ"
      },
      "execution_count": null,
      "outputs": []
    },
    {
      "cell_type": "code",
      "source": [
        "def euler1_001(limit: int) -> int:\n",
        "    num, total = 1, 0\n",
        "    while num < limit:\n",
        "        if num % 3 == 0 or num % 5 == 0:\n",
        "            total += num\n",
        "        num += 1\n",
        "    return total"
      ],
      "metadata": {
        "id": "63V68tqiftsk"
      },
      "execution_count": null,
      "outputs": []
    },
    {
      "cell_type": "code",
      "source": [
        "print(euler1_001(LIMIT))"
      ],
      "metadata": {
        "id": "iGG8przRgBZT"
      },
      "execution_count": null,
      "outputs": []
    },
    {
      "cell_type": "markdown",
      "source": [
        "int euler1_001(int limit) {\n",
        "\n",
        "\n",
        "def euler1_001(limit):\n"
      ],
      "metadata": {
        "id": "KDvX7FAzgFVy"
      }
    },
    {
      "cell_type": "code",
      "source": [
        "def bad(a: int) -> int:\n",
        "    return \"Hello\""
      ],
      "metadata": {
        "id": "kgW9Z1F3hOgf"
      },
      "execution_count": null,
      "outputs": []
    },
    {
      "cell_type": "code",
      "source": [
        "bad(7)"
      ],
      "metadata": {
        "id": "E0RAam9vhepD"
      },
      "execution_count": null,
      "outputs": []
    },
    {
      "cell_type": "code",
      "source": [
        "def euler1_002(limit: int) -> int:\n",
        "    num, total = 1, 0\n",
        "    while num < limit:\n",
        "        if select(num):\n",
        "            total += num\n",
        "        num += 1\n",
        "    return total\n",
        "\n",
        "\n",
        "def select(n: int) -> bool:\n",
        "    return n % 3 == 0 or n % 5 == 0"
      ],
      "metadata": {
        "id": "DB21y-MphgEx"
      },
      "execution_count": null,
      "outputs": []
    },
    {
      "cell_type": "code",
      "source": [
        "euler1_002(LIMIT)"
      ],
      "metadata": {
        "id": "ZAXVDOShjF6S"
      },
      "execution_count": null,
      "outputs": []
    },
    {
      "cell_type": "code",
      "source": [
        "def euler1_003(limit: int) -> int:\n",
        "    total = 0\n",
        "    for num in range(1, limit):\n",
        "        if num % 3 == 0 or num % 5 == 0:\n",
        "            total += num\n",
        "    return total"
      ],
      "metadata": {
        "id": "jwKOXM_1jJc4"
      },
      "execution_count": null,
      "outputs": []
    },
    {
      "cell_type": "code",
      "source": [
        "print(euler1_003(LIMIT))"
      ],
      "metadata": {
        "id": "SjDQjPTzkXEx"
      },
      "execution_count": null,
      "outputs": []
    },
    {
      "cell_type": "code",
      "source": [
        "range(9)"
      ],
      "metadata": {
        "id": "AF7WhGJ5kblW"
      },
      "execution_count": null,
      "outputs": []
    },
    {
      "cell_type": "code",
      "source": [
        "list(range(9))"
      ],
      "metadata": {
        "id": "DWesB2VBkkd5"
      },
      "execution_count": null,
      "outputs": []
    },
    {
      "cell_type": "code",
      "source": [
        "list(range(6, 13))"
      ],
      "metadata": {
        "id": "NouOoF8Mkm8F"
      },
      "execution_count": null,
      "outputs": []
    },
    {
      "cell_type": "code",
      "source": [
        "list(range(8, 127, 11))"
      ],
      "metadata": {
        "id": "FMOnch2_kuO7"
      },
      "execution_count": null,
      "outputs": []
    },
    {
      "cell_type": "code",
      "source": [
        "range(6, 13, -2)"
      ],
      "metadata": {
        "id": "2h9XgZ46k1CA"
      },
      "execution_count": null,
      "outputs": []
    },
    {
      "cell_type": "code",
      "source": [
        "list(range(6, 13, -2))"
      ],
      "metadata": {
        "id": "8QfbcToXl9bS"
      },
      "execution_count": null,
      "outputs": []
    },
    {
      "cell_type": "code",
      "source": [
        "list(range(13, 6, -2))"
      ],
      "metadata": {
        "id": "gOuPBjydmAYh"
      },
      "execution_count": null,
      "outputs": []
    },
    {
      "cell_type": "code",
      "source": [
        "a = 8\n",
        "b = 12\n",
        "c = 2\n",
        "list(range(a, b, c))"
      ],
      "metadata": {
        "id": "kCjwEs31mENC"
      },
      "execution_count": null,
      "outputs": []
    },
    {
      "cell_type": "code",
      "source": [
        "def make_range():\n",
        "    a = \n",
        "    b =\n",
        "    c =\n",
        "    return range(a, b, c)"
      ],
      "metadata": {
        "id": "FtypqCinmZfc"
      },
      "execution_count": null,
      "outputs": []
    },
    {
      "cell_type": "code",
      "source": [
        "range?"
      ],
      "metadata": {
        "id": "wpY-6Ypypnc3"
      },
      "execution_count": null,
      "outputs": []
    },
    {
      "cell_type": "code",
      "source": [
        "!python --version"
      ],
      "metadata": {
        "id": "7S3ej76kpo9P"
      },
      "execution_count": null,
      "outputs": []
    },
    {
      "cell_type": "code",
      "source": [
        "def select(k: int) -> bool:\n",
        "    return k % 5 == 0 or k % 3 == 0\n",
        "\n",
        "def euler1_004(limit: int) -> int:\n",
        "    total = 0\n",
        "    for num in range(1, limit):\n",
        "        if select(num):\n",
        "            total += num\n",
        "    return total"
      ],
      "metadata": {
        "id": "BNH0Al2Ap7l9"
      },
      "execution_count": null,
      "outputs": []
    },
    {
      "cell_type": "code",
      "source": [
        "h = \"Hello\""
      ],
      "metadata": {
        "id": "4shZpBBAsjXh"
      },
      "execution_count": null,
      "outputs": []
    },
    {
      "cell_type": "code",
      "source": [
        "h"
      ],
      "metadata": {
        "id": "-q0G0WAJsyi3"
      },
      "execution_count": null,
      "outputs": []
    },
    {
      "cell_type": "code",
      "source": [
        "print(h)"
      ],
      "metadata": {
        "id": "8-KtB3DRszRI"
      },
      "execution_count": null,
      "outputs": []
    },
    {
      "cell_type": "code",
      "source": [
        "def euler1_005(limit: int) -> int:\n",
        "    return sum(range(3, limit, 3)) \\\n",
        "           + sum(range(5, limit, 5)) \\\n",
        "           - sum(range(15, limit, 15))"
      ],
      "metadata": {
        "id": "5H5ClsS3s5Zo"
      },
      "execution_count": null,
      "outputs": []
    },
    {
      "cell_type": "code",
      "source": [
        "euler1_005(LIMIT)"
      ],
      "metadata": {
        "id": "dXtBtXFLte5e"
      },
      "execution_count": null,
      "outputs": []
    },
    {
      "cell_type": "code",
      "source": [
        "print(xyz)"
      ],
      "metadata": {
        "id": "JAApNpfjtm3Q"
      },
      "execution_count": null,
      "outputs": []
    },
    {
      "cell_type": "markdown",
      "source": [
        "# Problem 2\n",
        "## Euler 10\n",
        "\n",
        "\n",
        "The sum of the primes below 10 is 2 + 3 + 5 + 7 = 17.\n",
        "\n",
        "Find the sum of all the primes below two million.\n"
      ],
      "metadata": {
        "id": "3H6WRISfwsko"
      }
    },
    {
      "cell_type": "code",
      "source": [
        "def is_prime(n: int) -> bool:\n",
        "    if n < 2:\n",
        "        return False\n",
        "    if n in [2, 3, 5, 7]:\n",
        "        return True\n",
        "    if n % 2 == 0:\n",
        "        return False\n",
        "    factor = 3\n",
        "    while factor * factor <= n:\n",
        "        if n % factor == 0:\n",
        "            return False\n",
        "        factor += 2\n",
        "    return True"
      ],
      "metadata": {
        "id": "Pd8Wk3lI9_PL"
      },
      "execution_count": null,
      "outputs": []
    },
    {
      "cell_type": "code",
      "source": [
        "def euler10_001(limit: int) -> int:\n",
        "    total = 2\n",
        "    for n in range(3, limit, 2):\n",
        "        if is_prime(n):\n",
        "            total += n\n",
        "    return total"
      ],
      "metadata": {
        "id": "Zz0NXsW5-Woo"
      },
      "execution_count": null,
      "outputs": []
    },
    {
      "cell_type": "code",
      "source": [
        "euler10_001(2 * 10 ** 6)"
      ],
      "metadata": {
        "id": "-69JNu5R-pXY"
      },
      "execution_count": null,
      "outputs": []
    },
    {
      "cell_type": "markdown",
      "source": [
        "# Problem 3\n",
        "## Euler 3\n",
        "\n",
        "The prime factors of 13195 are 5, 7, 13 and 29.\n",
        "\n",
        "What is the largest prime factor of the number 600851475143 ?\n"
      ],
      "metadata": {
        "id": "egKjF3HS-tlT"
      }
    },
    {
      "cell_type": "code",
      "source": [
        "def factorize(n: int) -> [int]:\n",
        "    factors = []\n",
        "    factor = 2\n",
        "    while n % factor == 0:\n",
        "        factors.append(factor)\n",
        "        n //= factor\n",
        "    factor = 3\n",
        "    while n > 1:\n",
        "        while n % factor == 0:\n",
        "            factors.append(factor)\n",
        "            n //= factor\n",
        "        factor += 2\n",
        "    return factors"
      ],
      "metadata": {
        "id": "4RN8uvGBKfgq"
      },
      "execution_count": null,
      "outputs": []
    },
    {
      "cell_type": "code",
      "source": [
        "factorize(13195)"
      ],
      "metadata": {
        "id": "qC_0wIXuK8sX"
      },
      "execution_count": null,
      "outputs": []
    },
    {
      "cell_type": "code",
      "source": [
        "f = factorize(600851475143) "
      ],
      "metadata": {
        "id": "WIkxEWygK_tk"
      },
      "execution_count": null,
      "outputs": []
    },
    {
      "cell_type": "code",
      "source": [
        "answer = max(f)"
      ],
      "metadata": {
        "id": "obWhKp3LLInM"
      },
      "execution_count": null,
      "outputs": []
    },
    {
      "cell_type": "code",
      "source": [
        "print(factorize(13195))\n",
        "print(max(factorize(13195)))"
      ],
      "metadata": {
        "id": "J5uuQoIyLNWU"
      },
      "execution_count": null,
      "outputs": []
    },
    {
      "cell_type": "code",
      "source": [
        "n = 64\n",
        "n //= 2\n",
        "print(n)"
      ],
      "metadata": {
        "id": "iSJqIIf7MR4Q"
      },
      "execution_count": null,
      "outputs": []
    },
    {
      "cell_type": "markdown",
      "source": [
        "# Problem 4\n",
        "## Kaprekar constant\n",
        "\n",
        "$1945$\n",
        "\n",
        "$9541 - 1459 = 8082$\n",
        "\n",
        "$8820 - 288 = 8532$\n",
        "\n",
        "$8532 - 2358 = 6174$\n",
        "\n",
        "$7641 - 1467 = 6174$ "
      ],
      "metadata": {
        "id": "N4775mRcPh-V"
      }
    },
    {
      "cell_type": "code",
      "source": [
        "def num2digits(n: int) -> [int]:\n",
        "    digits = []\n",
        "    while n > 0:\n",
        "        digits.insert(0, n % 10)\n",
        "        n //= 10\n",
        "    return digits"
      ],
      "metadata": {
        "id": "PvfDhA4cpVQn"
      },
      "execution_count": null,
      "outputs": []
    },
    {
      "cell_type": "code",
      "source": [
        "print(num2digits(1728))"
      ],
      "metadata": {
        "id": "QU0wQbYdrPOL"
      },
      "execution_count": null,
      "outputs": []
    },
    {
      "cell_type": "code",
      "source": [
        "def digits2num(ds: [int]) -> int:\n",
        "    num = 0\n",
        "    for d in ds:\n",
        "        num = num * 10 + d\n",
        "    return num"
      ],
      "metadata": {
        "id": "UoGGz8pNrARc"
      },
      "execution_count": null,
      "outputs": []
    },
    {
      "cell_type": "code",
      "source": [
        "print(digits2num([1,8,6,7]))"
      ],
      "metadata": {
        "id": "VJctaIuyrXlu"
      },
      "execution_count": null,
      "outputs": []
    },
    {
      "cell_type": "code",
      "source": [
        "def largest(n: int) -> int:\n",
        "    return digits2num(sorted(num2digits(n), reverse=True))\n",
        "def smallest(n: int) -> int:\n",
        "    return digits2num(sorted(num2digits(n)))"
      ],
      "metadata": {
        "id": "TihdJ7Strcg7"
      },
      "execution_count": null,
      "outputs": []
    },
    {
      "cell_type": "code",
      "source": [
        "print(largest(1786))\n",
        "print(smallest(1954))"
      ],
      "metadata": {
        "id": "a39A2kVfro_S"
      },
      "execution_count": null,
      "outputs": []
    },
    {
      "cell_type": "code",
      "source": [
        "def next_kap(n: int) -> int:\n",
        "    return largest(n) - smallest(n)"
      ],
      "metadata": {
        "id": "MqqGKXtfr1nS"
      },
      "execution_count": null,
      "outputs": []
    },
    {
      "cell_type": "code",
      "source": [
        "print(next_kap(1945))"
      ],
      "metadata": {
        "id": "P1SUNRS3r70K"
      },
      "execution_count": null,
      "outputs": []
    },
    {
      "cell_type": "code",
      "source": [
        "def kap_seq(n: int) -> [int]:\n",
        "    seq = [n]\n",
        "    k = next_kap(n)\n",
        "    while k not in seq:\n",
        "        seq.append(k)\n",
        "        k = next_kap(k)\n",
        "    return seq\n"
      ],
      "metadata": {
        "id": "HZ2XdmvRsAmh"
      },
      "execution_count": null,
      "outputs": []
    },
    {
      "cell_type": "code",
      "source": [
        "print(kap_seq(1944))"
      ],
      "metadata": {
        "id": "jUUelxxusYX7"
      },
      "execution_count": null,
      "outputs": []
    },
    {
      "cell_type": "code",
      "source": [
        "a = [3, 7, 9, \"Hello\", 2 > 3]"
      ],
      "metadata": {
        "id": "_51UDOjMsalc"
      },
      "execution_count": null,
      "outputs": []
    },
    {
      "cell_type": "code",
      "source": [
        "for x in a:\n",
        "    print(x)"
      ],
      "metadata": {
        "id": "4JWC88CkuK8j"
      },
      "execution_count": null,
      "outputs": []
    },
    {
      "cell_type": "code",
      "source": [
        "kap_seq(12345)"
      ],
      "metadata": {
        "id": "6ctgGbiIuNbf"
      },
      "execution_count": null,
      "outputs": []
    },
    {
      "cell_type": "code",
      "source": [
        "def digits2num(ds: [int]) -> int:\n",
        "    if len(ds) == 1:\n",
        "        return ds[-1]\n",
        "    return digits2num(ds[:-1]) * 10 + ds[-1]"
      ],
      "metadata": {
        "id": "KxtahHdtxvvb"
      },
      "execution_count": null,
      "outputs": []
    },
    {
      "cell_type": "code",
      "source": [
        "digits2num([1, 7, 2, 9])"
      ],
      "metadata": {
        "id": "UnRJ6T_VyiwV"
      },
      "execution_count": null,
      "outputs": []
    },
    {
      "cell_type": "code",
      "source": [
        "def digits(n: int) -> [int]:\n",
        "    digits = []\n",
        "    while n > 0:\n",
        "        digits.append(n % 10)\n",
        "        n //= 10\n",
        "    return digits"
      ],
      "metadata": {
        "id": "_z2P9I9Syl5U"
      },
      "execution_count": null,
      "outputs": []
    },
    {
      "cell_type": "code",
      "source": [
        "digits(1786)"
      ],
      "metadata": {
        "id": "8sKdYwfA1WuB"
      },
      "execution_count": null,
      "outputs": []
    },
    {
      "cell_type": "code",
      "source": [
        ""
      ],
      "metadata": {
        "id": "ZFNtOYvS1Zxz"
      },
      "execution_count": null,
      "outputs": []
    }
  ]
}